{
 "cells": [
  {
   "cell_type": "code",
   "execution_count": null,
   "id": "f89a9df1",
   "metadata": {},
   "outputs": [],
   "source": [
    "resultado = (5 * (10 - 4) ** 2) / (3 ** 3 + 2) - 1\n"
   ]
  },
  {
   "cell_type": "code",
   "execution_count": null,
   "id": "cb7dc436",
   "metadata": {},
   "outputs": [],
   "source": [
    "x1, y1 = 2, 3\n",
    "x2, y2 = 8, 11\n",
    "\n",
    "distancia = ((x2 - x1) ** 2 + (y2 - y1) ** 2) ** 0.5\n"
   ]
  },
  {
   "cell_type": "code",
   "execution_count": null,
   "id": "cfd1d4c6",
   "metadata": {},
   "outputs": [],
   "source": [
    "n1, p1 = 7.0, 3\n",
    "n2, p2 = 8.5, 5\n",
    "n3, p3 = 6.0, 2\n",
    "\n",
    "media_ponderada = (n1 * p1 + n2 * p2 + n3 * p3) / (p1 + p2 + p3)\n"
   ]
  }
 ],
 "metadata": {
  "language_info": {
   "name": "python"
  }
 },
 "nbformat": 4,
 "nbformat_minor": 5
}
